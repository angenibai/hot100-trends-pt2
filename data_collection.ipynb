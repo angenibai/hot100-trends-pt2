{
 "cells": [
  {
   "cell_type": "code",
   "execution_count": 1,
   "metadata": {},
   "outputs": [],
   "source": [
    "from bs4 import BeautifulSoup\n",
    "from urllib.request import urlopen\n",
    "import csv"
   ]
  },
  {
   "cell_type": "code",
   "execution_count": 2,
   "metadata": {},
   "outputs": [],
   "source": [
    "def fetch_hot100(year):\n",
    "    csv_rows = [['Rank', 'Title', 'Artist(s)', 'Artists Separately']]\n",
    "\n",
    "    url = 'https://en.wikipedia.org/wiki/Billboard_Year-End_Hot_100_singles_of_' + str(year)\n",
    "\n",
    "    html = urlopen(url)\n",
    "    soup = BeautifulSoup(html, 'html.parser')\n",
    "\n",
    "    table = soup.find('table', {'class':'wikitable sortable'}).tbody\n",
    "\n",
    "    num = 1\n",
    "    for row in table.find_all('tr'):\n",
    "        # skip empty rows\n",
    "        cells_found = False\n",
    "        if len(row.find_all('td')) == 3:\n",
    "            num_cell, title_cell, artist_cell = row.find_all('td')\n",
    "            cells_found = True\n",
    "        \n",
    "        if not cells_found:\n",
    "            continue\n",
    "\n",
    "        # extract title and artist from their cells\n",
    "        title = title_cell.text.strip()\n",
    "\n",
    "        artist = artist_cell.text.strip() # artists as a string\n",
    "        artists_list = list(map(lambda x: x.getText(), artist_cell.find_all('a'))) # list of artists\n",
    "        artists_separately = \";\".join(artists_list)\n",
    "\n",
    "        # create new row for the csv file\n",
    "        row = [num, title, artist, artists_separately]\n",
    "        csv_rows.append(row)\n",
    "\n",
    "        num += 1\n",
    "        # print(f'Title: {title}, Artist(s): {artist}', artists_list) # ! DEBUG\n",
    "\n",
    "    # append all rows to new csv file\n",
    "    csv_name = 'hot100files/' + str(year) + '.csv'\n",
    "    with open(csv_name, 'w', newline='') as f:\n",
    "        writer = csv.writer(f)\n",
    "        writer.writerows(csv_rows)\n",
    "\n",
    "    print(f'Collected {year}')"
   ]
  },
  {
   "cell_type": "code",
   "execution_count": 19,
   "metadata": {},
   "outputs": [],
   "source": [
    "START_YEAR = 1959\n",
    "CUR_YEAR = 2023"
   ]
  },
  {
   "cell_type": "code",
   "execution_count": null,
   "metadata": {},
   "outputs": [],
   "source": [
    "\n",
    "for year in range(START_YEAR, CUR_YEAR):\n",
    "    fetch_hot100(year)\n",
    "        "
   ]
  },
  {
   "cell_type": "code",
   "execution_count": 3,
   "metadata": {},
   "outputs": [],
   "source": [
    "import spotipy\n",
    "from spotipy.oauth2 import SpotifyClientCredentials\n",
    "\n",
    "import pandas as pd"
   ]
  },
  {
   "cell_type": "code",
   "execution_count": 4,
   "metadata": {},
   "outputs": [],
   "source": [
    "sp = spotipy.Spotify(client_credentials_manager=SpotifyClientCredentials())"
   ]
  },
  {
   "cell_type": "code",
   "execution_count": 5,
   "metadata": {},
   "outputs": [],
   "source": [
    "intToKey = {\n",
    "    0:'C', 1:'C#/Db', 2:'D', 3:'D#/Eb', 4:'E', 5:'F', 6:'F#/Gb',\n",
    "    7:'G', 8:'G#/Ab', 9:'A', 10:'A#/Bb', 11:'B', -1:'NA'\n",
    "}\n",
    "\n",
    "intToMode = {\n",
    "    0:'minor', 1:'major'\n",
    "}"
   ]
  },
  {
   "cell_type": "code",
   "execution_count": 6,
   "metadata": {},
   "outputs": [
    {
     "data": {
      "text/html": [
       "<div>\n",
       "<style scoped>\n",
       "    .dataframe tbody tr th:only-of-type {\n",
       "        vertical-align: middle;\n",
       "    }\n",
       "\n",
       "    .dataframe tbody tr th {\n",
       "        vertical-align: top;\n",
       "    }\n",
       "\n",
       "    .dataframe thead th {\n",
       "        text-align: right;\n",
       "    }\n",
       "</style>\n",
       "<table border=\"1\" class=\"dataframe\">\n",
       "  <thead>\n",
       "    <tr style=\"text-align: right;\">\n",
       "      <th></th>\n",
       "      <th>Rank</th>\n",
       "      <th>Title</th>\n",
       "      <th>Artist(s)</th>\n",
       "      <th>Artists Separately</th>\n",
       "    </tr>\n",
       "  </thead>\n",
       "  <tbody>\n",
       "    <tr>\n",
       "      <th>0</th>\n",
       "      <td>1</td>\n",
       "      <td>\"Heat Waves\"</td>\n",
       "      <td>Glass Animals</td>\n",
       "      <td>Glass Animals</td>\n",
       "    </tr>\n",
       "    <tr>\n",
       "      <th>1</th>\n",
       "      <td>2</td>\n",
       "      <td>\"As It Was\"</td>\n",
       "      <td>Harry Styles</td>\n",
       "      <td>Harry Styles</td>\n",
       "    </tr>\n",
       "    <tr>\n",
       "      <th>2</th>\n",
       "      <td>3</td>\n",
       "      <td>\"Stay\"</td>\n",
       "      <td>The Kid Laroi and Justin Bieber</td>\n",
       "      <td>The Kid Laroi;Justin Bieber</td>\n",
       "    </tr>\n",
       "    <tr>\n",
       "      <th>3</th>\n",
       "      <td>4</td>\n",
       "      <td>\"Easy on Me\"</td>\n",
       "      <td>Adele</td>\n",
       "      <td>Adele</td>\n",
       "    </tr>\n",
       "    <tr>\n",
       "      <th>4</th>\n",
       "      <td>5</td>\n",
       "      <td>\"Shivers\"</td>\n",
       "      <td>Ed Sheeran</td>\n",
       "      <td>Ed Sheeran</td>\n",
       "    </tr>\n",
       "    <tr>\n",
       "      <th>...</th>\n",
       "      <td>...</td>\n",
       "      <td>...</td>\n",
       "      <td>...</td>\n",
       "      <td>...</td>\n",
       "    </tr>\n",
       "    <tr>\n",
       "      <th>95</th>\n",
       "      <td>96</td>\n",
       "      <td>\"Flower Shops\"</td>\n",
       "      <td>Ernest featuring Morgan Wallen</td>\n",
       "      <td>Ernest;Morgan Wallen</td>\n",
       "    </tr>\n",
       "    <tr>\n",
       "      <th>96</th>\n",
       "      <td>97</td>\n",
       "      <td>\"To the Moon\"</td>\n",
       "      <td>Jnr Choi and Sam Tompkins</td>\n",
       "      <td>NaN</td>\n",
       "    </tr>\n",
       "    <tr>\n",
       "      <th>97</th>\n",
       "      <td>98</td>\n",
       "      <td>\"Unholy\"</td>\n",
       "      <td>Sam Smith and Kim Petras</td>\n",
       "      <td>Sam Smith;Kim Petras</td>\n",
       "    </tr>\n",
       "    <tr>\n",
       "      <th>98</th>\n",
       "      <td>99</td>\n",
       "      <td>\"One Mississippi\"</td>\n",
       "      <td>Kane Brown</td>\n",
       "      <td>Kane Brown</td>\n",
       "    </tr>\n",
       "    <tr>\n",
       "      <th>99</th>\n",
       "      <td>100</td>\n",
       "      <td>\"Circles Around This Town\"</td>\n",
       "      <td>Maren Morris</td>\n",
       "      <td>Maren Morris</td>\n",
       "    </tr>\n",
       "  </tbody>\n",
       "</table>\n",
       "<p>100 rows × 4 columns</p>\n",
       "</div>"
      ],
      "text/plain": [
       "    Rank                       Title                        Artist(s)  \\\n",
       "0      1                \"Heat Waves\"                    Glass Animals   \n",
       "1      2                 \"As It Was\"                     Harry Styles   \n",
       "2      3                      \"Stay\"  The Kid Laroi and Justin Bieber   \n",
       "3      4                \"Easy on Me\"                            Adele   \n",
       "4      5                   \"Shivers\"                       Ed Sheeran   \n",
       "..   ...                         ...                              ...   \n",
       "95    96              \"Flower Shops\"   Ernest featuring Morgan Wallen   \n",
       "96    97               \"To the Moon\"        Jnr Choi and Sam Tompkins   \n",
       "97    98                    \"Unholy\"         Sam Smith and Kim Petras   \n",
       "98    99           \"One Mississippi\"                       Kane Brown   \n",
       "99   100  \"Circles Around This Town\"                     Maren Morris   \n",
       "\n",
       "             Artists Separately  \n",
       "0                 Glass Animals  \n",
       "1                  Harry Styles  \n",
       "2   The Kid Laroi;Justin Bieber  \n",
       "3                         Adele  \n",
       "4                    Ed Sheeran  \n",
       "..                          ...  \n",
       "95         Ernest;Morgan Wallen  \n",
       "96                          NaN  \n",
       "97         Sam Smith;Kim Petras  \n",
       "98                   Kane Brown  \n",
       "99                 Maren Morris  \n",
       "\n",
       "[100 rows x 4 columns]"
      ]
     },
     "execution_count": 6,
     "metadata": {},
     "output_type": "execute_result"
    }
   ],
   "source": [
    "year = 2022\n",
    "hot100_path = f'hot100files/{year}.csv'\n",
    "hot100_data = pd.read_csv(hot100_path)\n",
    "hot100_data"
   ]
  },
  {
   "cell_type": "code",
   "execution_count": 13,
   "metadata": {},
   "outputs": [
    {
     "data": {
      "text/plain": [
       "Rank                                              96\n",
       "Title                                 \"Flower Shops\"\n",
       "Artist(s)             Ernest featuring Morgan Wallen\n",
       "Artists Separately              Ernest;Morgan Wallen\n",
       "Name: 95, dtype: object"
      ]
     },
     "execution_count": 13,
     "metadata": {},
     "output_type": "execute_result"
    }
   ],
   "source": [
    "target = hot100_data.iloc[95]\n",
    "target"
   ]
  },
  {
   "cell_type": "code",
   "execution_count": 14,
   "metadata": {},
   "outputs": [],
   "source": [
    "query = f'track:{target[\"Title\"]} artist:'\n",
    "query += target['Artist(s)']\n",
    "results = sp.search(q=query, limit=1, type='track')"
   ]
  },
  {
   "cell_type": "code",
   "execution_count": 16,
   "metadata": {},
   "outputs": [
    {
     "data": {
      "text/plain": [
       "{'tracks': {'href': 'https://api.spotify.com/v1/search?query=track%3A%22Flower+Shops%22+artist%3AErnest+featuring+Morgan+Wallen&type=track&offset=0&limit=1',\n",
       "  'items': [],\n",
       "  'limit': 1,\n",
       "  'next': None,\n",
       "  'offset': 0,\n",
       "  'previous': None,\n",
       "  'total': 0}}"
      ]
     },
     "execution_count": 16,
     "metadata": {},
     "output_type": "execute_result"
    }
   ],
   "source": [
    "results"
   ]
  },
  {
   "cell_type": "code",
   "execution_count": 15,
   "metadata": {},
   "outputs": [
    {
     "ename": "IndexError",
     "evalue": "list index out of range",
     "output_type": "error",
     "traceback": [
      "\u001b[0;31m---------------------------------------------------------------------------\u001b[0m",
      "\u001b[0;31mIndexError\u001b[0m                                Traceback (most recent call last)",
      "Cell \u001b[0;32mIn[15], line 1\u001b[0m\n\u001b[0;32m----> 1\u001b[0m uri \u001b[39m=\u001b[39m results[\u001b[39m'\u001b[39;49m\u001b[39mtracks\u001b[39;49m\u001b[39m'\u001b[39;49m][\u001b[39m'\u001b[39;49m\u001b[39mitems\u001b[39;49m\u001b[39m'\u001b[39;49m][\u001b[39m0\u001b[39;49m][\u001b[39m'\u001b[39m\u001b[39muri\u001b[39m\u001b[39m'\u001b[39m]\n\u001b[1;32m      2\u001b[0m uri\n",
      "\u001b[0;31mIndexError\u001b[0m: list index out of range"
     ]
    }
   ],
   "source": [
    "uri = results['tracks']['items'][0]['uri']\n",
    "uri"
   ]
  },
  {
   "cell_type": "code",
   "execution_count": null,
   "metadata": {},
   "outputs": [],
   "source": []
  },
  {
   "cell_type": "code",
   "execution_count": 11,
   "metadata": {},
   "outputs": [
    {
     "data": {
      "text/html": [
       "<div>\n",
       "<style scoped>\n",
       "    .dataframe tbody tr th:only-of-type {\n",
       "        vertical-align: middle;\n",
       "    }\n",
       "\n",
       "    .dataframe tbody tr th {\n",
       "        vertical-align: top;\n",
       "    }\n",
       "\n",
       "    .dataframe thead th {\n",
       "        text-align: right;\n",
       "    }\n",
       "</style>\n",
       "<table border=\"1\" class=\"dataframe\">\n",
       "  <thead>\n",
       "    <tr style=\"text-align: right;\">\n",
       "      <th></th>\n",
       "      <th>danceability</th>\n",
       "      <th>energy</th>\n",
       "      <th>key</th>\n",
       "      <th>loudness</th>\n",
       "      <th>mode</th>\n",
       "      <th>speechiness</th>\n",
       "      <th>acousticness</th>\n",
       "      <th>instrumentalness</th>\n",
       "      <th>liveness</th>\n",
       "      <th>valence</th>\n",
       "      <th>tempo</th>\n",
       "      <th>type</th>\n",
       "      <th>id</th>\n",
       "      <th>uri</th>\n",
       "      <th>track_href</th>\n",
       "      <th>analysis_url</th>\n",
       "      <th>duration_ms</th>\n",
       "      <th>time_signature</th>\n",
       "    </tr>\n",
       "  </thead>\n",
       "  <tbody>\n",
       "    <tr>\n",
       "      <th>0</th>\n",
       "      <td>0.761</td>\n",
       "      <td>0.525</td>\n",
       "      <td>11</td>\n",
       "      <td>-6.9</td>\n",
       "      <td>1</td>\n",
       "      <td>0.0944</td>\n",
       "      <td>0.44</td>\n",
       "      <td>0.000007</td>\n",
       "      <td>0.0921</td>\n",
       "      <td>0.531</td>\n",
       "      <td>80.87</td>\n",
       "      <td>audio_features</td>\n",
       "      <td>02MWAaffLxlfxAUY7c5dvx</td>\n",
       "      <td>spotify:track:02MWAaffLxlfxAUY7c5dvx</td>\n",
       "      <td>https://api.spotify.com/v1/tracks/02MWAaffLxlf...</td>\n",
       "      <td>https://api.spotify.com/v1/audio-analysis/02MW...</td>\n",
       "      <td>238805</td>\n",
       "      <td>4</td>\n",
       "    </tr>\n",
       "  </tbody>\n",
       "</table>\n",
       "</div>"
      ],
      "text/plain": [
       "   danceability  energy  key  loudness  mode  speechiness  acousticness  \\\n",
       "0         0.761   0.525   11      -6.9     1       0.0944          0.44   \n",
       "\n",
       "   instrumentalness  liveness  valence  tempo            type  \\\n",
       "0          0.000007    0.0921    0.531  80.87  audio_features   \n",
       "\n",
       "                       id                                   uri  \\\n",
       "0  02MWAaffLxlfxAUY7c5dvx  spotify:track:02MWAaffLxlfxAUY7c5dvx   \n",
       "\n",
       "                                          track_href  \\\n",
       "0  https://api.spotify.com/v1/tracks/02MWAaffLxlf...   \n",
       "\n",
       "                                        analysis_url  duration_ms  \\\n",
       "0  https://api.spotify.com/v1/audio-analysis/02MW...       238805   \n",
       "\n",
       "   time_signature  \n",
       "0               4  "
      ]
     },
     "execution_count": 11,
     "metadata": {},
     "output_type": "execute_result"
    }
   ],
   "source": [
    "features = sp.audio_features([uri])\n",
    "pd.DataFrame.from_dict(features, orient='columns')"
   ]
  },
  {
   "cell_type": "code",
   "execution_count": null,
   "metadata": {},
   "outputs": [],
   "source": []
  }
 ],
 "metadata": {
  "kernelspec": {
   "display_name": "hot100-trends-pt2-fNKKwnq2",
   "language": "python",
   "name": "python3"
  },
  "language_info": {
   "codemirror_mode": {
    "name": "ipython",
    "version": 3
   },
   "file_extension": ".py",
   "mimetype": "text/x-python",
   "name": "python",
   "nbconvert_exporter": "python",
   "pygments_lexer": "ipython3",
   "version": "3.8.9"
  },
  "orig_nbformat": 4,
  "vscode": {
   "interpreter": {
    "hash": "7a14d71ab696e660177272d3de8a02a7f014abd6b6c881ad1bfe4a3436b8521f"
   }
  }
 },
 "nbformat": 4,
 "nbformat_minor": 2
}
